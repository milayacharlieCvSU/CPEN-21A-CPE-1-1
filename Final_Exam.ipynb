{
  "cells": [
    {
      "cell_type": "markdown",
      "metadata": {
        "id": "view-in-github",
        "colab_type": "text"
      },
      "source": [
        "<a href=\"https://colab.research.google.com/github/milayacharlieCvSU/CPEN-21A-CPE-1-1/blob/main/Final_Exam.ipynb\" target=\"_parent\"><img src=\"https://colab.research.google.com/assets/colab-badge.svg\" alt=\"Open In Colab\"/></a>"
      ]
    },
    {
      "cell_type": "markdown",
      "metadata": {
        "id": "M2GVZqh5lRjN"
      },
      "source": [
        "\n",
        "# Final Exam"
      ]
    },
    {
      "cell_type": "markdown",
      "metadata": {
        "id": "_LfUAPT_lVu8"
      },
      "source": [
        "## Problem Statement 1:\n",
        "Create a Python program that will produce an output of sum of 10 numbers less than 5 using FOR LOOP statement. (30 points)"
      ]
    },
    {
      "cell_type": "code",
      "execution_count": 8,
      "metadata": {
        "colab": {
          "base_uri": "https://localhost:8080/"
        },
        "id": "f3-EtB6XsYyr",
        "outputId": "0ef20e01-5bb5-414a-9009-6bac98f57013"
      },
      "outputs": [
        {
          "output_type": "stream",
          "name": "stdout",
          "text": [
            "Number List: [4, 3, 1, 2, 0, -1, 4, -7, 1, -8]\n",
            "The sum of [4, 3, 1, 2, 0, -1, 4, -7, 1, -8] is -1.\n"
          ]
        }
      ],
      "source": [
        "def sumOfTen(numberList):\n",
        "  sum = 0\n",
        "  for item in numberList:\n",
        "    sum += int(item)\n",
        "  print(\"The sum of \" + str(numberList) + \" is \" + str(sum) + \".\")\n",
        "\n",
        "numbersTest = [4, 3, 1, 2, 0, -1, 4, -7, 1, -8]\n",
        "print(\"Number List:\", numbersTest)\n",
        "sumOfTen(numbersTest)"
      ]
    },
    {
      "cell_type": "markdown",
      "metadata": {
        "id": "obsskyGRnFQc"
      },
      "source": [
        "## Problem Statement 2:\n",
        "Create a Python program that will accept five numbers and determine the sum of first and last number among the five numbers entered using WHILE LOOP statement. (35 points)"
      ]
    },
    {
      "cell_type": "code",
      "execution_count": 18,
      "metadata": {
        "id": "b7BWU7Hxe8A4",
        "colab": {
          "base_uri": "https://localhost:8080/"
        },
        "outputId": "48a29884-3d6c-4e4b-eb43-d5651dcf334f"
      },
      "outputs": [
        {
          "output_type": "stream",
          "name": "stdout",
          "text": [
            "Enter your number 1: -804\n",
            "Enter your number 2: -812\n",
            "Enter your number 3: -559\n",
            "Enter your number 4: 182\n",
            "Enter your number 5: -791\n",
            "The sum of -804 and -791 is -1595.\n"
          ]
        }
      ],
      "source": [
        "numbers = []\n",
        "numberAmountLimit = 5\n",
        "while len(numbers) != numberAmountLimit:\n",
        "  nextNumber = int(input(f\"Enter your number {len(numbers) + 1}: \"))\n",
        "  numbers.append(nextNumber)\n",
        "sum = numbers[0] + numbers[-1]\n",
        "print(\"The sum of\", numbers[0], \"and\", numbers[-1], \"is\", str(sum) + \".\")"
      ]
    },
    {
      "cell_type": "markdown",
      "metadata": {
        "id": "gxk2D6ICnYe-"
      },
      "source": [
        "## Problem Statement 3:\n",
        "Create a Python program to calculate student grades. It accepts a numerical grade as input and it will display the character grade as output based on the given scale: (Use Nested-IF-Else statement, 35 points)\n",
        "\n",
        "```\n",
        "      Range      |  Grade\n",
        "  90 and above   |    A\n",
        "     80 - 89     |    B\n",
        "     70 - 79     |    C\n",
        "     60 - 69     |    D\n",
        "    Below 60     |    F\n",
        "```"
      ]
    },
    {
      "cell_type": "code",
      "execution_count": 21,
      "metadata": {
        "id": "OeUZEMQ2qSpb",
        "colab": {
          "base_uri": "https://localhost:8080/"
        },
        "outputId": "b962b2bc-5c64-41f2-c3dc-fd91fd8e14ad"
      },
      "outputs": [
        {
          "output_type": "stream",
          "name": "stdout",
          "text": [
            "Student's grade: 89\n",
            "Character Grade: B\n"
          ]
        }
      ],
      "source": [
        "def gradeOutput(grade):\n",
        "  charGrade = 'Character Grade: '\n",
        "  if grade >= 60:\n",
        "    if grade >= 70:\n",
        "      if grade >= 80:\n",
        "        if grade >= 90:\n",
        "          charGrade += \"A\"\n",
        "        else:\n",
        "          charGrade += \"B\"\n",
        "      else:\n",
        "        charGrade += \"C\"\n",
        "    else:\n",
        "      charGrade += \"D\"\n",
        "  else:\n",
        "    charGrade += \"F\"\n",
        "  print(charGrade)\n",
        "\n",
        "gradeOutput(int(input(\"Student's grade: \")))"
      ]
    }
  ],
  "metadata": {
    "colab": {
      "name": "Final Exam.ipynb",
      "provenance": [],
      "collapsed_sections": [],
      "authorship_tag": "ABX9TyPQHJeZIs0+Vu2J2yGbyrtv",
      "include_colab_link": true
    },
    "kernelspec": {
      "display_name": "Python 3",
      "name": "python3"
    },
    "language_info": {
      "name": "python"
    }
  },
  "nbformat": 4,
  "nbformat_minor": 0
}