{
  "nbformat": 4,
  "nbformat_minor": 0,
  "metadata": {
    "colab": {
      "name": "Control Structure.ipynb",
      "provenance": [],
      "collapsed_sections": [],
      "authorship_tag": "ABX9TyPLiRG8iUZ9ibDnJE87mLur",
      "include_colab_link": true
    },
    "kernelspec": {
      "name": "python3",
      "display_name": "Python 3"
    },
    "language_info": {
      "name": "python"
    }
  },
  "cells": [
    {
      "cell_type": "markdown",
      "metadata": {
        "id": "view-in-github",
        "colab_type": "text"
      },
      "source": [
        "<a href=\"https://colab.research.google.com/github/milayacharlieCvSU/CPEN-21A-CPE-1-1/blob/main/Control_Structure.ipynb\" target=\"_parent\"><img src=\"https://colab.research.google.com/assets/colab-badge.svg\" alt=\"Open In Colab\"/></a>"
      ]
    },
    {
      "cell_type": "markdown",
      "metadata": {
        "id": "6xFI1qUXlmEo"
      },
      "source": [
        "# Types of Control Structures"
      ]
    },
    {
      "cell_type": "markdown",
      "metadata": {
        "id": "wITQ9Irflxng"
      },
      "source": [
        "## If Statement"
      ]
    },
    {
      "cell_type": "code",
      "metadata": {
        "colab": {
          "base_uri": "https://localhost:8080/"
        },
        "id": "EjBQotXtkV_S",
        "outputId": "fc28ab3f-46c8-4d8d-c282-c357d3c421b2"
      },
      "source": [
        "a, b = 12, 100\n",
        "if b > a:   # return 'b is greater than a' since 100 > 12\n",
        "  print(\"b is greater than a\")"
      ],
      "execution_count": 1,
      "outputs": [
        {
          "output_type": "stream",
          "name": "stdout",
          "text": [
            "b is greater than a\n"
          ]
        }
      ]
    },
    {
      "cell_type": "markdown",
      "metadata": {
        "id": "DBvW4bqsoMZd"
      },
      "source": [
        "## Elif Statement"
      ]
    },
    {
      "cell_type": "code",
      "metadata": {
        "colab": {
          "base_uri": "https://localhost:8080/"
        },
        "id": "SlBxmBa-oPdD",
        "outputId": "952f22aa-ff98-4f44-9c58-6e284f47fa0f"
      },
      "source": [
        "a, b = 12, 12\n",
        "if b > a:   # return 'a and b are equal' since 12 !> 12 and 12 == 12\n",
        "  print(\"b is greater than a\")\n",
        "elif a == b:\n",
        "  print(\"a and b are equal\")"
      ],
      "execution_count": 2,
      "outputs": [
        {
          "output_type": "stream",
          "name": "stdout",
          "text": [
            "a and b are equal\n"
          ]
        }
      ]
    },
    {
      "cell_type": "markdown",
      "metadata": {
        "id": "tlv9ajPKpDqA"
      },
      "source": [
        "## Else Statement"
      ]
    },
    {
      "cell_type": "code",
      "metadata": {
        "colab": {
          "base_uri": "https://localhost:8080/"
        },
        "id": "0elCRAMBpGsj",
        "outputId": "ca7bc22e-bab4-45d6-9cb4-0c71bf7205dc"
      },
      "source": [
        "a, b = 200, 33\n",
        "if b > a:   # return 'b is less than a' since 33 !> 200, 33 != 200, and 200 > 33\n",
        "  print(\"b is greater than a\")\n",
        "elif a == b:\n",
        "  print(\"a and b are equal\")\n",
        "else:\n",
        "  print(\"b is less than a\")"
      ],
      "execution_count": 5,
      "outputs": [
        {
          "output_type": "stream",
          "name": "stdout",
          "text": [
            "b is less than a\n"
          ]
        }
      ]
    },
    {
      "cell_type": "markdown",
      "metadata": {
        "id": "VTvbh1vHqO7I"
      },
      "source": [
        "## Short Hand If Statement"
      ]
    },
    {
      "cell_type": "code",
      "metadata": {
        "id": "UgCg3eB4qGxP"
      },
      "source": [
        "if a > b: print(\"a is greater than b\")"
      ],
      "execution_count": 10,
      "outputs": []
    },
    {
      "cell_type": "markdown",
      "metadata": {
        "id": "qpFpqQosrA-W"
      },
      "source": [
        "## Short Hand If...Else Statement"
      ]
    },
    {
      "cell_type": "code",
      "metadata": {
        "colab": {
          "base_uri": "https://localhost:8080/"
        },
        "id": "uNCwm2lHrfvS",
        "outputId": "0cd43a8e-9db7-4861-c532-8a3b3e450cf3"
      },
      "source": [
        "print('a is greater than b') if a > b else print('b is greater than a')"
      ],
      "execution_count": 11,
      "outputs": [
        {
          "output_type": "stream",
          "name": "stdout",
          "text": [
            "b is greater than a\n"
          ]
        }
      ]
    },
    {
      "cell_type": "markdown",
      "metadata": {
        "id": "W5sj9HrtsFRq"
      },
      "source": [
        "## And Conditions"
      ]
    },
    {
      "cell_type": "code",
      "metadata": {
        "colab": {
          "base_uri": "https://localhost:8080/"
        },
        "id": "SDHtQp8xrxls",
        "outputId": "5a33f36a-913c-41e3-8b8e-0738e9442327"
      },
      "source": [
        "a, b = 15, 35\n",
        "if b > a and a < b:\n",
        "  print(\"Both conditions are True\")\n",
        "elif b < a and a > b:\n",
        "  print(\"a is greater than b\")\n",
        "else:\n",
        "  print(\"a and b are equal\")\n",
        "# return 'Both conditions are True' since 200 > 33 and 500 > 200 is T and T is T"
      ],
      "execution_count": 12,
      "outputs": [
        {
          "output_type": "stream",
          "name": "stdout",
          "text": [
            "Both conditions are True\n"
          ]
        }
      ]
    },
    {
      "cell_type": "markdown",
      "metadata": {
        "id": "fz0MO4Xjukxb"
      },
      "source": [
        "## Or Condition"
      ]
    },
    {
      "cell_type": "code",
      "metadata": {
        "colab": {
          "base_uri": "https://localhost:8080/"
        },
        "id": "3wsSSCjMulYm",
        "outputId": "f3b0f76e-15af-45cf-a287-45e705315631"
      },
      "source": [
        "a, b = 35, 20\n",
        "if b > a or a == b:\n",
        "  print(\"At least one of the conditions is True\")\n",
        "else:\n",
        "  print(\"Both conditions are False\")\n",
        "# return 'Both conditions are False' since 20 !> 35 or 35 != 20 is F or F is F"
      ],
      "execution_count": 14,
      "outputs": [
        {
          "output_type": "stream",
          "name": "stdout",
          "text": [
            "Both conditions are False\n"
          ]
        }
      ]
    },
    {
      "cell_type": "markdown",
      "metadata": {
        "id": "3fUpjc19wUDj"
      },
      "source": [
        "## Nested If Statements"
      ]
    },
    {
      "cell_type": "code",
      "metadata": {
        "colab": {
          "base_uri": "https://localhost:8080/"
        },
        "id": "VVkJC9iVwX3w",
        "outputId": "757d52ad-1bc6-4f3f-f103-5134454f2408"
      },
      "source": [
        "def NestedIf(x):\n",
        "  if x > 10:\n",
        "    print(x, \"is above 10,\")\n",
        "    if x > 20:\n",
        "      print(\"  and above 20,\")\n",
        "      if x > 30:\n",
        "        print(\"    and above 30!\")\n",
        "      else:\n",
        "        print(\"    but not above 30.\")\n",
        "    else:\n",
        "      print(\"  but not above 20.\")\n",
        "  else:\n",
        "    print(x, \"is not above 10.\")\n",
        "  \n",
        "NestedIf(5)\n",
        "NestedIf(11)\n",
        "NestedIf(23)\n",
        "NestedIf(37)\n",
        "NestedIf(41)"
      ],
      "execution_count": 19,
      "outputs": [
        {
          "output_type": "stream",
          "name": "stdout",
          "text": [
            "5 is not above 10.\n",
            "11 is above 10,\n",
            "  but not above 20.\n",
            "23 is above 10,\n",
            "  and above 20,\n",
            "    but not above 30.\n",
            "37 is above 10,\n",
            "  and above 20,\n",
            "    and above 30!\n",
            "41 is above 10,\n",
            "  and above 20,\n",
            "    and above 30!\n"
          ]
        }
      ]
    },
    {
      "cell_type": "markdown",
      "metadata": {
        "id": "X9VF2vWAx655"
      },
      "source": [
        "## Application of If...Else Statement"
      ]
    },
    {
      "cell_type": "code",
      "metadata": {
        "colab": {
          "base_uri": "https://localhost:8080/"
        },
        "id": "8YzyAJLQx-2Z",
        "outputId": "e9961af1-d305-451f-aae4-aa8d7b30f46e"
      },
      "source": [
        "# Example 1\n",
        "age = int(input(\"Enter your age: \"))\n",
        "if age >= 18:\n",
        "  print(\"Since you are\", age, \"years old, you are qualified to vote!\")\n",
        "else:\n",
        "  print(\"Since you are\", age, \"years old, you are not qualified to vote!\")"
      ],
      "execution_count": 25,
      "outputs": [
        {
          "output_type": "stream",
          "name": "stdout",
          "text": [
            "Enter your age: 18\n",
            "Since you are 18 years old, you are qualified to vote!\n"
          ]
        }
      ]
    },
    {
      "cell_type": "code",
      "metadata": {
        "colab": {
          "base_uri": "https://localhost:8080/"
        },
        "id": "_q7XXTocy-5o",
        "outputId": "25e5a454-daa6-4f74-fa4b-3b268e244ce9"
      },
      "source": [
        "# Example 2\n",
        "number = int(input(\"Enter a number: \"))\n",
        "if number == 0:\n",
        "  print(number, \"is zero\")\n",
        "elif number > 0:\n",
        "  print(number, \"is positive\")\n",
        "else:\n",
        "  print(number, \"is negative\")"
      ],
      "execution_count": 26,
      "outputs": [
        {
          "output_type": "stream",
          "name": "stdout",
          "text": [
            "Enter a number: 0\n",
            "0 is zero\n"
          ]
        }
      ]
    },
    {
      "cell_type": "code",
      "metadata": {
        "colab": {
          "base_uri": "https://localhost:8080/"
        },
        "id": "jx3x28yD0Bq6",
        "outputId": "3584c3df-3fe5-48bd-e4a1-f332cbf64da1"
      },
      "source": [
        "# Example 3\n",
        "def gradeChecker(grade):\n",
        "  if grade >= 75:\n",
        "    print(grade, \"is passed\")\n",
        "  elif grade == 74:\n",
        "    print(grade, \"is remedial\")\n",
        "  else:\n",
        "    print(grade, \"is failed\")\n",
        "gradeChecker(76)\n",
        "gradeChecker(75)\n",
        "gradeChecker(74)\n",
        "gradeChecker(70)\n",
        "gradeChecker(85)"
      ],
      "execution_count": 30,
      "outputs": [
        {
          "output_type": "stream",
          "name": "stdout",
          "text": [
            "76 is passed\n",
            "75 is passed\n",
            "74 is remedial\n",
            "70 is failed\n",
            "85 is passed\n"
          ]
        }
      ]
    }
  ]
}