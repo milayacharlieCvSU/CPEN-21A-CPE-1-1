{
  "nbformat": 4,
  "nbformat_minor": 0,
  "metadata": {
    "colab": {
      "name": "Demo01.ipynb",
      "provenance": [],
      "collapsed_sections": [],
      "authorship_tag": "ABX9TyO24swyR9jg1kwB2kO5Fjb3",
      "include_colab_link": true
    },
    "kernelspec": {
      "name": "python3",
      "display_name": "Python 3"
    },
    "language_info": {
      "name": "python"
    }
  },
  "cells": [
    {
      "cell_type": "markdown",
      "metadata": {
        "id": "view-in-github",
        "colab_type": "text"
      },
      "source": [
        "<a href=\"https://colab.research.google.com/github/milayacharlieCvSU/CPEN-21A-CPE-1-1/blob/main/Demo01.ipynb\" target=\"_parent\"><img src=\"https://colab.research.google.com/assets/colab-badge.svg\" alt=\"Open In Colab\"/></a>"
      ]
    },
    {
      "cell_type": "markdown",
      "metadata": {
        "id": "jfkin7YiXcq0"
      },
      "source": [
        "#Introduction to Python Programming"
      ]
    },
    {
      "cell_type": "markdown",
      "metadata": {
        "id": "TOEPKpKpiegX"
      },
      "source": [
        "##Naming Variables and Its Type"
      ]
    },
    {
      "cell_type": "code",
      "metadata": {
        "colab": {
          "base_uri": "https://localhost:8080/"
        },
        "id": "rY7AA_HQXDyg",
        "outputId": "146456f7-1509-4566-d345-8f1db0a2ce69"
      },
      "source": [
        "x, y = 5, \"John\"\n",
        "z = float(x)\n",
        "print(x, \"is in\", type(x))  # Tells the value and the type of variable x\n",
        "print(y, \"is in\", type(y))  # Tells the value and the type of variable y\n",
        "print(z, \"is in\", type(z))  # Tells the value and the type of variable z"
      ],
      "execution_count": 7,
      "outputs": [
        {
          "output_type": "stream",
          "name": "stdout",
          "text": [
            "5 is in <class 'int'>\n",
            "John is in <class 'str'>\n",
            "5.0 is in <class 'float'>\n"
          ]
        }
      ]
    },
    {
      "cell_type": "markdown",
      "metadata": {
        "id": "6oxNN2VdicKV"
      },
      "source": [
        "##One Value to Multiple Variables"
      ]
    },
    {
      "cell_type": "code",
      "metadata": {
        "colab": {
          "base_uri": "https://localhost:8080/"
        },
        "id": "_E0QkYnPi_ny",
        "outputId": "2b449167-7e86-4086-c99e-95298099a8ec"
      },
      "source": [
        "x = y = z = \"four\"\n",
        "print(x) \n",
        "print(y)\n",
        "print(z)"
      ],
      "execution_count": 8,
      "outputs": [
        {
          "output_type": "stream",
          "name": "stdout",
          "text": [
            "four\n",
            "four\n",
            "four\n"
          ]
        }
      ]
    },
    {
      "cell_type": "markdown",
      "metadata": {
        "id": "jczf1NtVjLl1"
      },
      "source": [
        "##Using Computational Operators"
      ]
    },
    {
      "cell_type": "code",
      "metadata": {
        "colab": {
          "base_uri": "https://localhost:8080/"
        },
        "id": "D8JEj3fTjSrd",
        "outputId": "fb22b7cc-b86b-41fa-9556-9db3fb57997f"
      },
      "source": [
        "x = 4\n",
        "y = 5\n",
        "print(x + y)\n",
        "print(x - y)"
      ],
      "execution_count": 9,
      "outputs": [
        {
          "output_type": "stream",
          "name": "stdout",
          "text": [
            "9\n",
            "-1\n"
          ]
        }
      ]
    },
    {
      "cell_type": "markdown",
      "metadata": {
        "id": "VrtCH_8ujdfm"
      },
      "source": [
        "##Using Logical Operators"
      ]
    },
    {
      "cell_type": "code",
      "metadata": {
        "colab": {
          "base_uri": "https://localhost:8080/"
        },
        "id": "0ACETz-SjiwB",
        "outputId": "97de6567-9cd3-4315-9ec0-61864546d0e5"
      },
      "source": [
        "not(x > y or x == x)"
      ],
      "execution_count": 10,
      "outputs": [
        {
          "output_type": "execute_result",
          "data": {
            "text/plain": [
              "False"
            ]
          },
          "metadata": {},
          "execution_count": 10
        }
      ]
    }
  ]
}