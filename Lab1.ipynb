{
  "nbformat": 4,
  "nbformat_minor": 0,
  "metadata": {
    "colab": {
      "name": "Lab1.ipynb",
      "provenance": [],
      "collapsed_sections": [],
      "authorship_tag": "ABX9TyM2Mr02afDUG9i5BCwxC6uK",
      "include_colab_link": true
    },
    "kernelspec": {
      "name": "python3",
      "display_name": "Python 3"
    },
    "language_info": {
      "name": "python"
    }
  },
  "cells": [
    {
      "cell_type": "markdown",
      "metadata": {
        "id": "view-in-github",
        "colab_type": "text"
      },
      "source": [
        "<a href=\"https://colab.research.google.com/github/milayacharlieCvSU/CPEN-21A-CPE-1-1/blob/main/Lab1.ipynb\" target=\"_parent\"><img src=\"https://colab.research.google.com/assets/colab-badge.svg\" alt=\"Open In Colab\"/></a>"
      ]
    },
    {
      "cell_type": "markdown",
      "metadata": {
        "id": "qskUlzgcU1iu"
      },
      "source": [
        "#Laboratory 1 "
      ]
    },
    {
      "cell_type": "code",
      "metadata": {
        "colab": {
          "base_uri": "https://localhost:8080/"
        },
        "id": "nw5-9YUZUx-2",
        "outputId": "37a8326c-9649-4ecd-fca7-26650198e038"
      },
      "source": [
        "print('Welcome to Python Programming')  # Print the string 'Welcome to Python Programming'"
      ],
      "execution_count": 2,
      "outputs": [
        {
          "output_type": "stream",
          "name": "stdout",
          "text": [
            "Welcome to Python Programming\n"
          ]
        }
      ]
    },
    {
      "cell_type": "code",
      "metadata": {
        "colab": {
          "base_uri": "https://localhost:8080/"
        },
        "id": "QcXVgWYtVjR9",
        "outputId": "972ca467-daaa-4006-9c6e-1338acc5f1b9"
      },
      "source": [
        "# This part of the notebook prints the author's name, address, and age.\n",
        "authorName = 'Charlie Milaya'\n",
        "authorAddress = '13 San Juan I, Noveleta, Cavite'\n",
        "authorAge = 18\n",
        "authorMessage = 'I am ' + authorName + ', ' + str(authorAge) + ' years of age who lives in ' + authorAddress + '.'\n",
        "print(authorMessage)"
      ],
      "execution_count": 2,
      "outputs": [
        {
          "output_type": "stream",
          "name": "stdout",
          "text": [
            "I am Charlie Milaya, 18 years of age who lives in 13 San Juan I, Noveleta, Cavite.\n"
          ]
        }
      ]
    }
  ]
}
