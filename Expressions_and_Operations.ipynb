{
  "nbformat": 4,
  "nbformat_minor": 0,
  "metadata": {
    "colab": {
      "name": "Expressions and Operations.ipynb",
      "provenance": [],
      "authorship_tag": "ABX9TyP2ImKeOCyNdLnZKDwuoZEk",
      "include_colab_link": true
    },
    "kernelspec": {
      "name": "python3",
      "display_name": "Python 3"
    },
    "language_info": {
      "name": "python"
    }
  },
  "cells": [
    {
      "cell_type": "markdown",
      "metadata": {
        "id": "view-in-github",
        "colab_type": "text"
      },
      "source": [
        "<a href=\"https://colab.research.google.com/github/milayacharlieCvSU/CPEN-21A-CPE-1-1/blob/main/Expressions_and_Operations.ipynb\" target=\"_parent\"><img src=\"https://colab.research.google.com/assets/colab-badge.svg\" alt=\"Open In Colab\"/></a>"
      ]
    },
    {
      "cell_type": "markdown",
      "metadata": {
        "id": "nrY7TxXvebE6"
      },
      "source": [
        "# Operations and Expressions in Python"
      ]
    },
    {
      "cell_type": "markdown",
      "metadata": {
        "id": "aJlHh6H3eujo"
      },
      "source": [
        "## Boolean Operators\n",
        "*   Booleans represent one of two values: **True** or **False**\n",
        "\n"
      ]
    },
    {
      "cell_type": "code",
      "metadata": {
        "colab": {
          "base_uri": "https://localhost:8080/"
        },
        "id": "EvWF8Ob1dsw3",
        "outputId": "4b0bc7d3-9819-488b-a896-3c79f30a4b9b"
      },
      "source": [
        "print(10 > 9)   # Must return True\n",
        "print(10 == 9)  # Must return False\n",
        "print(10 < 9)   # Must return False\n",
        "print(10 != 9)  # Must return True"
      ],
      "execution_count": 11,
      "outputs": [
        {
          "output_type": "stream",
          "name": "stdout",
          "text": [
            "True\n",
            "False\n",
            "False\n",
            "True\n"
          ]
        }
      ]
    },
    {
      "cell_type": "code",
      "metadata": {
        "colab": {
          "base_uri": "https://localhost:8080/"
        },
        "id": "jb-7Ki2CgWPN",
        "outputId": "04364b25-2044-48ff-e2f6-d08cbfd07ea5"
      },
      "source": [
        "print(bool(True))     # Must return True    -> The value is True\n",
        "print(bool(False))    # Must return False   -> The value is False\n",
        "print(bool(\"Hello\"))  # Must return True    -> The value exists\n",
        "print(bool(16))       # Must return True    -> The value isn't 0 (numerical empty)\n",
        "print(bool(0))        # Must return False   -> The value is 0\n",
        "print(bool([]))       # Must return False   -> The value is empty"
      ],
      "execution_count": 12,
      "outputs": [
        {
          "output_type": "stream",
          "name": "stdout",
          "text": [
            "True\n",
            "False\n",
            "True\n",
            "True\n",
            "False\n",
            "False\n"
          ]
        }
      ]
    },
    {
      "cell_type": "code",
      "metadata": {
        "colab": {
          "base_uri": "https://localhost:8080/"
        },
        "id": "9_yioVfGhikZ",
        "outputId": "d68eab43-f3db-4299-cb8c-f047a61a6af2"
      },
      "source": [
        "def myFunction():\n",
        "  return True\n",
        "\n",
        "print(myFunction())   # Must return True\n",
        "\n",
        "def myFunction1():\n",
        "  return False\n",
        "\n",
        "print(myFunction1())  # Must return False"
      ],
      "execution_count": 13,
      "outputs": [
        {
          "output_type": "stream",
          "name": "stdout",
          "text": [
            "True\n",
            "False\n"
          ]
        }
      ]
    },
    {
      "cell_type": "code",
      "metadata": {
        "colab": {
          "base_uri": "https://localhost:8080/"
        },
        "id": "d2LehR01iGGe",
        "outputId": "a70a9878-c13b-4c7c-c29c-e37d4bbf2346"
      },
      "source": [
        "def myFunction2():\n",
        "  return True\n",
        "\n",
        "if myFunction2():     # This conditional must return \"Yes!\"\n",
        "  print(\"Yes!\")\n",
        "else:\n",
        "  print(\"No!\")\n",
        "\n",
        "def myFunction3():\n",
        "  return False\n",
        "\n",
        "if myFunction3():     # This conditional must return \"No!\"\n",
        "  print(\"Yes!\")\n",
        "else:\n",
        "  print(\"No!\")"
      ],
      "execution_count": 14,
      "outputs": [
        {
          "output_type": "stream",
          "name": "stdout",
          "text": [
            "Yes!\n",
            "No!\n"
          ]
        }
      ]
    },
    {
      "cell_type": "code",
      "metadata": {
        "colab": {
          "base_uri": "https://localhost:8080/"
        },
        "id": "dvzoemtiiazp",
        "outputId": "74ee103e-d0f4-47ee-cb06-f92712996052"
      },
      "source": [
        "a, b = 6, 7\n",
        "print(a == b)   # Must return False since 6 == 7 is True\n",
        "print(a != a)   # Must return False since 7 == 7 is True"
      ],
      "execution_count": 15,
      "outputs": [
        {
          "output_type": "stream",
          "name": "stdout",
          "text": [
            "False\n",
            "False\n"
          ]
        }
      ]
    },
    {
      "cell_type": "markdown",
      "metadata": {
        "id": "UVOgEgMrjePN"
      },
      "source": [
        "## Python Operators"
      ]
    },
    {
      "cell_type": "markdown",
      "metadata": {
        "id": "dLSQjEA2mH3g"
      },
      "source": [
        "### Common Mathematical Operators"
      ]
    },
    {
      "cell_type": "code",
      "metadata": {
        "colab": {
          "base_uri": "https://localhost:8080/"
        },
        "id": "IygU8SKDjiey",
        "outputId": "dec964c1-c1f9-4a37-ba68-e9e234583d78"
      },
      "source": [
        "print(10 + 5)   # Must return 15 since 10 + 5 = 15        -> Addition\n",
        "print(10 - 5)   # Must return 5 since 10 - 5 = 5          -> Subtraction\n",
        "print(10*5)     # Must return 50 since 10*5 = 50          -> Multiplication\n",
        "print(10/5)     # Must return 2.0 since 10/5 = 2.0        -> Float Division\n",
        "print(10//5)    # Must return 2 since 10/5 = **2** r. 0   -> Floor Division\n",
        "print(10//3)    # Must return 3 since 10/3 = **3** r. 1\n",
        "print(10%3)     # Must return 1 since 10/3 = 3 r. **1**   -> Modulo\n",
        "print(10**2)    # Must return 100 since 10^2 = 100        -> Concantenation"
      ],
      "execution_count": 16,
      "outputs": [
        {
          "output_type": "stream",
          "name": "stdout",
          "text": [
            "15\n",
            "5\n",
            "50\n",
            "2.0\n",
            "2\n",
            "3\n",
            "1\n",
            "100\n"
          ]
        }
      ]
    },
    {
      "cell_type": "markdown",
      "metadata": {
        "id": "pVXJskZumYsO"
      },
      "source": [
        "### Bitwise Operators"
      ]
    },
    {
      "cell_type": "code",
      "metadata": {
        "colab": {
          "base_uri": "https://localhost:8080/"
        },
        "id": "twBFcfnmmeaq",
        "outputId": "540d4694-d0bd-4428-edc4-4e26bbf1aa09"
      },
      "source": [
        "a = 60        # 0011 1100\n",
        "b = 13        # 0000 1101\n",
        "print(a & b)  # 0000 1100 = 12  -> AND  (return 1 for 1 & 1, otherwise, return 0)\n",
        "print(a | b)  # 0011 1101 = 61  -> OR   (return 0 for 0 | 0, otherwise, return 1)\n",
        "print(a ^ b)  # 0011 0001 = 49  -> XOR  (return 1 for 1 ^ 0 or 0 ^ 1, otherwise, return 0)\n",
        "print(a << 1) # 0111 1000 = 120 -> LEFT SHIFT   (move the bits n units to the left)\n",
        "print(a << 2) # 1111 0000 = 240\n",
        "print(a >> 1) # 0001 1110 = 30  -> RIGHT SHIFT  (move the bits n units to the right)\n",
        "print(a >> 2) # 0000 1111 = 15\n"
      ],
      "execution_count": 17,
      "outputs": [
        {
          "output_type": "stream",
          "name": "stdout",
          "text": [
            "12\n",
            "61\n",
            "49\n",
            "-60\n",
            "120\n",
            "240\n",
            "30\n",
            "15\n"
          ]
        }
      ]
    },
    {
      "cell_type": "markdown",
      "metadata": {
        "id": "iimukjKmqJCY"
      },
      "source": [
        "###Assignment Operators"
      ]
    },
    {
      "cell_type": "code",
      "metadata": {
        "colab": {
          "base_uri": "https://localhost:8080/"
        },
        "id": "5nQz-mE8pwd5",
        "outputId": "afd6f180-d361-4094-8eb6-646a325bf861"
      },
      "source": [
        "a, b = 60, 13\n",
        "a += 2    # a = a + 2\n",
        "print(a)  # Must return 62 since 60 + 2 = 62\n",
        "b -= 3    # b = b - 3\n",
        "print(b)  # Must return 10 since 13 - 3 = 10\n",
        "b *= 2    # b = b*2\n",
        "print(b)  # Must return 20 since 10*2 = 20"
      ],
      "execution_count": 20,
      "outputs": [
        {
          "output_type": "stream",
          "name": "stdout",
          "text": [
            "62\n",
            "10\n",
            "20\n"
          ]
        }
      ]
    },
    {
      "cell_type": "markdown",
      "metadata": {
        "id": "uH0FOmoaqO3M"
      },
      "source": [
        "### Logical Operators"
      ]
    },
    {
      "cell_type": "code",
      "metadata": {
        "colab": {
          "base_uri": "https://localhost:8080/"
        },
        "id": "89ezioGKqTYJ",
        "outputId": "9dc7954a-4be4-4529-b72f-143b1ac4aa1c"
      },
      "source": [
        "a, b, c, d = True, False, False, True\n",
        "print(a and b)  # Must return False since True and False is False\n",
        "print(a and d)  # Must return True since True and True is True\n",
        "print(b and c)  # Must return False since False and False is False\n",
        "print(a or b)   # Must return True since True or False is True\n",
        "print(a or d)   # Must return True since True or True is True\n",
        "print(b or c)   # Must return False since False or False is False\n",
        "print(not a)    # Must return False since not True is False\n",
        "print(not b)    # Must return True since not False is True"
      ],
      "execution_count": 21,
      "outputs": [
        {
          "output_type": "stream",
          "name": "stdout",
          "text": [
            "False\n",
            "True\n",
            "False\n",
            "True\n",
            "True\n",
            "False\n",
            "False\n",
            "True\n"
          ]
        }
      ]
    },
    {
      "cell_type": "markdown",
      "metadata": {
        "id": "Nk_CelJXtLFh"
      },
      "source": [
        "### Identity Operator"
      ]
    },
    {
      "cell_type": "code",
      "metadata": {
        "colab": {
          "base_uri": "https://localhost:8080/"
        },
        "id": "hZqd2d9IstxR",
        "outputId": "571b4f96-2c69-47d1-e79b-859c01078ff9"
      },
      "source": [
        "a, b, c = 60, 13, 60\n",
        "print(a is b)       # Must return False since 60 != 13\n",
        "print(a is c)       # Must return True since 60 == 60\n",
        "print(a is not b)   # Must return True since 60 != 13\n",
        "print(a is not c)   # Must return False since 60 == 60"
      ],
      "execution_count": 22,
      "outputs": [
        {
          "output_type": "stream",
          "name": "stdout",
          "text": [
            "False\n",
            "True\n",
            "True\n",
            "False\n"
          ]
        }
      ]
    }
  ]
}