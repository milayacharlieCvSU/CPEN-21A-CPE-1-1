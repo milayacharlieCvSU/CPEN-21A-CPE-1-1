{
  "nbformat": 4,
  "nbformat_minor": 0,
  "metadata": {
    "colab": {
      "name": "Midterm Exam.ipynb",
      "provenance": [],
      "authorship_tag": "ABX9TyN0A4FFL2X9yjXbw4grng4Z",
      "include_colab_link": true
    },
    "kernelspec": {
      "name": "python3",
      "display_name": "Python 3"
    },
    "language_info": {
      "name": "python"
    }
  },
  "cells": [
    {
      "cell_type": "markdown",
      "metadata": {
        "id": "view-in-github",
        "colab_type": "text"
      },
      "source": [
        "<a href=\"https://colab.research.google.com/github/milayacharlieCvSU/CPEN-21A-CPE-1-1/blob/main/Midterm_Exam.ipynb\" target=\"_parent\"><img src=\"https://colab.research.google.com/assets/colab-badge.svg\" alt=\"Open In Colab\"/></a>"
      ]
    },
    {
      "cell_type": "markdown",
      "metadata": {
        "id": "KInba4HBiNAN"
      },
      "source": [
        "# Midterm Exam"
      ]
    },
    {
      "cell_type": "markdown",
      "metadata": {
        "id": "pWcJDNzEiWFw"
      },
      "source": [
        "## Problem Statement 1"
      ]
    },
    {
      "cell_type": "code",
      "metadata": {
        "colab": {
          "base_uri": "https://localhost:8080/"
        },
        "id": "wyc6BYm5iYBN",
        "outputId": "3b08c238-4a58-437a-acca-ea67f4ca2901"
      },
      "source": [
        "# Initialization of variables\n",
        "studentName = \"Charlie Milaya\"\n",
        "studentNumber = 202101869\n",
        "studentAge = 18\n",
        "studentBirthdate = \"May 20, 2003\"\n",
        "studentAddress = \"13 San Juan I, Noveleta, Cavite\"\n",
        "studentCourse = \"BSCpE 1-1\"\n",
        "studentPreviousGWA = 96\n",
        "\n",
        "# Student Information\n",
        "print(\"Student Information\")\n",
        "print(\"Name:\", studentName)\n",
        "print(\"Student Number:\", studentNumber)\n",
        "print(\"Age:\", studentAge)\n",
        "print(\"Birthday:\", studentBirthdate)\n",
        "print(\"Address:\", studentAddress)\n",
        "print(\"Course:\", studentCourse)\n",
        "print(\"Last Semester GWA:\", studentPreviousGWA)"
      ],
      "execution_count": 8,
      "outputs": [
        {
          "output_type": "stream",
          "name": "stdout",
          "text": [
            "Student Information\n",
            "Name: Charlie Milaya\n",
            "Student Number: 202101869\n",
            "Age: 18\n",
            "Birthday: May 20, 2003\n",
            "Address: 13 San Juan I, Noveleta, Cavite\n",
            "Course: BSCpE 1-1\n",
            "Last Semester GWA: 96\n"
          ]
        }
      ]
    },
    {
      "cell_type": "markdown",
      "metadata": {
        "id": "9DqGrNAnk__c"
      },
      "source": [
        "## Problem Statement 2"
      ]
    },
    {
      "cell_type": "code",
      "metadata": {
        "colab": {
          "base_uri": "https://localhost:8080/"
        },
        "id": "Ma6cXeW0lDRU",
        "outputId": "16712031-6ab7-457c-e1c4-5f8d46448360"
      },
      "source": [
        "# Initialization of Variables\n",
        "n, answ = 4, \"Y\"\n",
        "\n",
        "# Boolean Calculations\n",
        "print(\"a.\", 2 < n and n < 6)                        # T and T is T\n",
        "print(\"b.\", 2 < n or n == 6)                        # T or F is T\n",
        "print(\"c.\", not(2 < n)  or n == 6)                  # -T or F is F or F is F\n",
        "print(\"d.\", not(n < 6))                             # -T is F\n",
        "print(\"e.\", answ == \"Y\" or answ == \"y\")             # T or F is T\n",
        "print(\"f.\", answ == \"Y\" and answ == \"y\")            # T and F is F\n",
        "print(\"g.\", not(answ == \"y\"))                       # -F is T\n",
        "print(\"h.\", (2 > n and n == 5 + 1) or answ == \"No\")   # F and F or F is F or F is F\n",
        "print(\"i.\", (n == 2 and n == 7) or answ == \"Y\")     # (F and F) or T is F or T is T\n",
        "print(\"j.\", n == 2 and (n == 7 or answ == \"Y\"))     # F and (F or T) is F and T is F"
      ],
      "execution_count": 10,
      "outputs": [
        {
          "output_type": "stream",
          "name": "stdout",
          "text": [
            "a. True\n",
            "b. True\n",
            "c. False\n",
            "d. False\n",
            "e. True\n",
            "f. False\n",
            "g. True\n",
            "h. False\n",
            "i. True\n",
            "j. False\n"
          ]
        }
      ]
    },
    {
      "cell_type": "markdown",
      "metadata": {
        "id": "dpOVmj3VnFC1"
      },
      "source": [
        "## Problem Statement 3"
      ]
    },
    {
      "cell_type": "code",
      "metadata": {
        "colab": {
          "base_uri": "https://localhost:8080/"
        },
        "id": "kLK2rtAKnIol",
        "outputId": "d476ac9f-06ca-4bc5-bb06-4f02a82e96c4"
      },
      "source": [
        "# Initialization of Variables\n",
        "x, y, z, w = 2, -3, 7, -10\n",
        "\n",
        "# Numerical Calculations\n",
        "print(\"a.\", x/y)\n",
        "print(\"b.\", w/y/x)\n",
        "print(\"c.\", z/y % x)\n",
        "print(\"d.\", x % -y * w)\n",
        "print(\"e.\", x % y)\n",
        "print(\"f.\", z % w - y/x*5 + 5)\n",
        "print(\"g.\", 9 - x % (2 + y))\n",
        "print(\"h.\", z//w)\n",
        "print(\"i.\", (2 + y)**2)\n",
        "print(\"j.\", w/x * 2)"
      ],
      "execution_count": 12,
      "outputs": [
        {
          "output_type": "stream",
          "name": "stdout",
          "text": [
            "a. -0.6666666666666666\n",
            "b. 1.6666666666666667\n",
            "c. 1.6666666666666665\n",
            "d. -20\n",
            "e. -1\n",
            "f. 9.5\n",
            "g. 9\n",
            "h. -1\n",
            "i. 1\n",
            "j. -10.0\n"
          ]
        }
      ]
    }
  ]
}